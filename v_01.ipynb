{
 "cells": [
  {
   "cell_type": "markdown",
   "id": "a5097a5d",
   "metadata": {},
   "source": [
    "# Libraries"
   ]
  },
  {
   "cell_type": "code",
   "execution_count": null,
   "id": "dc460ff9",
   "metadata": {},
   "outputs": [],
   "source": [
    "import pandas as pd\n",
    "import numpy as np\n",
    "import umap.umap_ as umap  # pip install umap-learn\n",
    "import umap.plot  # pip install umap-learn[plot]\n",
    "import matplotlib.pyplot as plt\n",
    "%matplotlib inline\n",
    "\n",
    "from sklearn.model_selection import train_test_split, cross_val_score\n",
    "from sklearn.svm import SVC\n",
    "from sklearn.pipeline import make_pipeline\n",
    "from sklearn.preprocessing import QuantileTransformer\n",
    "from sklearn.preprocessing import StandardScaler\n",
    "from sklearn.metrics import f1_score"
   ]
  },
  {
   "cell_type": "markdown",
   "id": "369a3bc9",
   "metadata": {},
   "source": [
    "# Import and examine our Data"
   ]
  },
  {
   "cell_type": "code",
   "execution_count": null,
   "id": "6fcc1ab7",
   "metadata": {},
   "outputs": [],
   "source": [
    "df = pd.read_csv(\"D:/DataAskiseis/New_Disq_Functions/malakas_2.csv\",\n",
    "                 skiprows= 1700000,\n",
    "                 nrows=800000,\n",
    "                 header = None)\n",
    "df.head()"
   ]
  },
  {
   "cell_type": "code",
   "execution_count": null,
   "id": "95dc6df2",
   "metadata": {},
   "outputs": [],
   "source": [
    "df.drop([113,114,115], axis = 1,inplace=True)"
   ]
  },
  {
   "cell_type": "code",
   "execution_count": null,
   "id": "0f9ecf09",
   "metadata": {},
   "outputs": [],
   "source": [
    "df.describe()"
   ]
  },
  {
   "cell_type": "code",
   "execution_count": null,
   "id": "642863cf",
   "metadata": {},
   "outputs": [],
   "source": [
    "df.shape"
   ]
  },
  {
   "cell_type": "code",
   "execution_count": null,
   "id": "1ea84718",
   "metadata": {},
   "outputs": [],
   "source": [
    "df[112].value_counts()"
   ]
  },
  {
   "cell_type": "code",
   "execution_count": null,
   "id": "5c13c93a",
   "metadata": {},
   "outputs": [],
   "source": [
    "df_sample = df.sample(2000, replace=False)\n",
    "X, y = df_sample.drop(112, axis=1), df_sample[[112]].values.flatten()"
   ]
  },
  {
   "cell_type": "markdown",
   "id": "068f2d31",
   "metadata": {},
   "source": [
    "# Preprocess"
   ]
  },
  {
   "cell_type": "code",
   "execution_count": null,
   "id": "f96eeae5",
   "metadata": {},
   "outputs": [],
   "source": [
    "pipe = make_pipeline(QuantileTransformer(),StandardScaler())\n",
    "X = pipe.fit_transform(X.copy())\n",
    "X.shape"
   ]
  },
  {
   "cell_type": "markdown",
   "id": "40033447",
   "metadata": {},
   "source": [
    "# Supervised UMAP transformation on 2000 points"
   ]
  },
  {
   "cell_type": "code",
   "execution_count": null,
   "id": "609af2cb",
   "metadata": {},
   "outputs": [],
   "source": [
    "manifold = umap.UMAP(n_neighbors = 1000, min_dist = 0.1, n_components = 2, metric = \"manhattan\").fit(X, y)\n",
    "X_reduced = manifold.transform(X)"
   ]
  },
  {
   "cell_type": "code",
   "execution_count": null,
   "id": "ba2a5d31",
   "metadata": {},
   "outputs": [],
   "source": [
    "plt.scatter(X_reduced[:, 0], X_reduced[:, 1], c = y, s = 11, cmap = 'Spectral');\n",
    "plt.title('Embedding of the malakas dataset by UMAP', fontsize=14);"
   ]
  },
  {
   "cell_type": "code",
   "execution_count": null,
   "id": "54c3ca07",
   "metadata": {},
   "outputs": [],
   "source": [
    "umap.plot.points(manifold, labels = y, theme = \"fire\");"
   ]
  },
  {
   "cell_type": "code",
   "execution_count": null,
   "id": "aa462ae2",
   "metadata": {},
   "outputs": [],
   "source": [
    "umap.plot.connectivity(manifold, labels=y, theme=\"fire\");"
   ]
  },
  {
   "cell_type": "code",
   "execution_count": null,
   "id": "4082af2d",
   "metadata": {},
   "outputs": [],
   "source": [
    "umap.plot.connectivity(manifold, show_points=True);"
   ]
  },
  {
   "cell_type": "markdown",
   "id": "746788d8",
   "metadata": {},
   "source": [
    "# Build a UMAP model on the training set and apply it on the test and validation sets"
   ]
  },
  {
   "cell_type": "code",
   "execution_count": null,
   "id": "a49a993d",
   "metadata": {},
   "outputs": [],
   "source": [
    "# our dataframe and our target\n",
    "df_sample = df.sample(2000, replace = False)\n",
    "X, y = df_sample.drop(112, axis = 1), df_sample[[112]].values.flatten()"
   ]
  },
  {
   "cell_type": "code",
   "execution_count": null,
   "id": "ac0c44ce",
   "metadata": {},
   "outputs": [],
   "source": [
    "# Preprocess\n",
    "pipe = make_pipeline(QuantileTransformer(), StandardScaler())\n",
    "X = pipe.fit_transform(X.copy())"
   ]
  },
  {
   "cell_type": "code",
   "execution_count": null,
   "id": "2bc87dcc",
   "metadata": {},
   "outputs": [],
   "source": [
    "# train and test split\n",
    "X_train, X_test, y_train, y_test = train_test_split(X, y, stratify = y, random_state = 42)\n",
    "\n",
    "X_train.shape"
   ]
  },
  {
   "cell_type": "code",
   "execution_count": null,
   "id": "3da1bf51",
   "metadata": {},
   "outputs": [],
   "source": [
    "# Supervised UMAP transformation on the training set\n",
    "manifold = umap.UMAP(n_neighbors = 1499, min_dist = 0.1, n_components = 2, metric = \"manhattan\").fit(X_train, y_train)"
   ]
  },
  {
   "cell_type": "code",
   "execution_count": null,
   "id": "bacce138",
   "metadata": {},
   "outputs": [],
   "source": [
    "# Make the new training dataframe with the UMAP features as predictors\n",
    "X_reduced = manifold.transform(X_train)"
   ]
  },
  {
   "cell_type": "code",
   "execution_count": null,
   "id": "15497ec5",
   "metadata": {},
   "outputs": [],
   "source": [
    "# Visualize our new training dataframe\n",
    "plt.scatter(X_reduced[:, 0], X_reduced[:, 1], c = y_train, s = 11, cmap = 'Spectral');\n",
    "plt.title('Embedding of the training dataset by UMAP', fontsize = 14);"
   ]
  },
  {
   "cell_type": "code",
   "execution_count": null,
   "id": "8b8faa71",
   "metadata": {},
   "outputs": [],
   "source": [
    "# Apply the UMAP transformation on the test set and make the new testing dataframe\n",
    "X_reduced = manifold.transform(X_test)"
   ]
  },
  {
   "cell_type": "code",
   "execution_count": null,
   "id": "332c9efe",
   "metadata": {},
   "outputs": [],
   "source": [
    "# Visualize our new testing dataframe\n",
    "plt.scatter(X_reduced[:, 0], X_reduced[:, 1], c = y_test, s = 11, cmap = 'Spectral');\n",
    "plt.title('Embedding of the testing dataset by UMAP', fontsize = 14);"
   ]
  },
  {
   "cell_type": "markdown",
   "id": "9ab74881",
   "metadata": {},
   "source": [
    "# Load our validation sets"
   ]
  },
  {
   "cell_type": "code",
   "execution_count": null,
   "id": "a38b08b6",
   "metadata": {},
   "outputs": [],
   "source": [
    "shock_1 = pd.read_csv(\"shock1.csv\", header = None)\n",
    "shock_2 = pd.read_csv(\"shock2.csv\", header = None)\n",
    "shock_3 = pd.read_csv(\"gausian.csv\", header = None)\n",
    "shock_4 = pd.read_csv(\"shock_4.csv\", header = None)"
   ]
  },
  {
   "cell_type": "markdown",
   "id": "95196a1d",
   "metadata": {},
   "source": [
    "# Preprocess shock_1 dataset"
   ]
  },
  {
   "cell_type": "code",
   "execution_count": null,
   "id": "33c6d5c2",
   "metadata": {},
   "outputs": [],
   "source": [
    "shock_1_sample = shock_1.sample(800, replace = False)\n",
    "X, y = shock_1_sample.drop(112, axis = 1), shock_1_sample[[112]].values.flatten()"
   ]
  },
  {
   "cell_type": "code",
   "execution_count": null,
   "id": "d3e9969e",
   "metadata": {},
   "outputs": [],
   "source": [
    "pipe = make_pipeline(QuantileTransformer(), StandardScaler())\n",
    "X = pipe.fit_transform(X.copy())"
   ]
  },
  {
   "cell_type": "markdown",
   "id": "3f610a67",
   "metadata": {},
   "source": [
    "# Apply the UMAP transformation on the shock_1 dataset and make our new shock_1 dataframe with UMAP features as predictors\n"
   ]
  },
  {
   "cell_type": "code",
   "execution_count": null,
   "id": "6bef1457",
   "metadata": {},
   "outputs": [],
   "source": [
    "X_reduced = manifold.transform(X)"
   ]
  },
  {
   "cell_type": "markdown",
   "id": "5d523514",
   "metadata": {},
   "source": [
    "# Visualize our new dataframe"
   ]
  },
  {
   "cell_type": "code",
   "execution_count": null,
   "id": "1d83473c",
   "metadata": {},
   "outputs": [],
   "source": [
    "plt.scatter(X_reduced[:, 0], X_reduced[:, 1], c = y, s = 11, cmap = 'Spectral');\n",
    "plt.title('Embedding of the shock_1 dataset by UMAP', fontsize = 14);"
   ]
  },
  {
   "cell_type": "markdown",
   "id": "d1e8bf1e",
   "metadata": {},
   "source": [
    "# Preprocess shock_2 dataset"
   ]
  },
  {
   "cell_type": "code",
   "execution_count": null,
   "id": "df0de236",
   "metadata": {},
   "outputs": [],
   "source": [
    "shock_2_sample = shock_2.sample(800, replace = False)\n",
    "X, y = shock_2_sample.drop(112, axis = 1), shock_2_sample[[112]].values.flatten()"
   ]
  },
  {
   "cell_type": "code",
   "execution_count": null,
   "id": "66fc5e05",
   "metadata": {},
   "outputs": [],
   "source": [
    "pipe = make_pipeline(QuantileTransformer(), StandardScaler())\n",
    "X = pipe.fit_transform(X.copy())"
   ]
  },
  {
   "cell_type": "markdown",
   "id": "0e950db9",
   "metadata": {},
   "source": [
    "# Apply the UMAP transformation on the shock_2 dataset and make our new shock_2 dataframe with UMAP features as predictors"
   ]
  },
  {
   "cell_type": "code",
   "execution_count": null,
   "id": "3d0d812c",
   "metadata": {},
   "outputs": [],
   "source": [
    "X_reduced = manifold.transform(X)"
   ]
  },
  {
   "cell_type": "markdown",
   "id": "a29822c2",
   "metadata": {},
   "source": [
    "# Visualize our new dataframe"
   ]
  },
  {
   "cell_type": "code",
   "execution_count": null,
   "id": "f8269ec2",
   "metadata": {},
   "outputs": [],
   "source": [
    "plt.scatter(X_reduced[:, 0], X_reduced[:, 1], c = y, s = 11, cmap = 'Spectral');\n",
    "plt.title('Embedding of the shock_2 dataset by UMAP', fontsize = 14);"
   ]
  },
  {
   "cell_type": "markdown",
   "id": "a10a3d80",
   "metadata": {},
   "source": [
    "# Preprocess shock_3 dataset"
   ]
  },
  {
   "cell_type": "code",
   "execution_count": null,
   "id": "31bf429f",
   "metadata": {},
   "outputs": [],
   "source": [
    "shock_3_sample = shock_3.sample(800, replace=False)\n",
    "X, y = shock_3_sample.drop(112, axis=1), shock_3_sample[[112]].values.flatten()"
   ]
  },
  {
   "cell_type": "code",
   "execution_count": null,
   "id": "01e1d210",
   "metadata": {},
   "outputs": [],
   "source": [
    "pipe = make_pipeline(QuantileTransformer(), StandardScaler())\n",
    "X = pipe.fit_transform(X.copy())"
   ]
  },
  {
   "cell_type": "markdown",
   "id": "784ca450",
   "metadata": {},
   "source": [
    "# Apply the UMAP transformation on the shock_3 dataset and make our new shock_3 dataframe with UMAP features as predictors"
   ]
  },
  {
   "cell_type": "code",
   "execution_count": null,
   "id": "a4131842",
   "metadata": {},
   "outputs": [],
   "source": [
    "X_reduced = manifold.transform(X)"
   ]
  },
  {
   "cell_type": "markdown",
   "id": "2b6e9b62",
   "metadata": {},
   "source": [
    "# Visualize our new dataframe"
   ]
  },
  {
   "cell_type": "code",
   "execution_count": null,
   "id": "ef963380",
   "metadata": {},
   "outputs": [],
   "source": [
    "plt.scatter(X_reduced[:, 0], X_reduced[:, 1], c = y, s = 11, cmap = 'Spectral');\n",
    "plt.title('Embedding of the shock_3 dataset by UMAP', fontsize=14);"
   ]
  },
  {
   "cell_type": "markdown",
   "id": "1b854ea2",
   "metadata": {},
   "source": [
    "# Preprocess shock_4 dataset"
   ]
  },
  {
   "cell_type": "code",
   "execution_count": null,
   "id": "6750650b",
   "metadata": {},
   "outputs": [],
   "source": [
    "shock_4_sample = shock_4.sample(800, replace=False)\n",
    "X, y = shock_4_sample.drop(112, axis = 1), shock_4_sample[[112]].values.flatten()"
   ]
  },
  {
   "cell_type": "code",
   "execution_count": null,
   "id": "c8acf605",
   "metadata": {},
   "outputs": [],
   "source": [
    "pipe = make_pipeline(QuantileTransformer(), StandardScaler())\n",
    "X = pipe.fit_transform(X.copy())"
   ]
  },
  {
   "cell_type": "markdown",
   "id": "eb38a6e4",
   "metadata": {},
   "source": [
    "# Apply the UMAP transformation on the shock_4 dataset and make our new shock_4 dataframe with UMAP features as predictors"
   ]
  },
  {
   "cell_type": "code",
   "execution_count": null,
   "id": "cdc54b94",
   "metadata": {},
   "outputs": [],
   "source": [
    "X_reduced = manifold.transform(X)"
   ]
  },
  {
   "cell_type": "markdown",
   "id": "7bd2c08e",
   "metadata": {},
   "source": [
    "# Visualize our new dataframe"
   ]
  },
  {
   "cell_type": "code",
   "execution_count": null,
   "id": "aff68369",
   "metadata": {},
   "outputs": [],
   "source": [
    "plt.scatter(X_reduced[:, 0], X_reduced[:, 1], c = y, s = 11, cmap = 'Spectral');\n",
    "plt.title('Embedding of the shock_4 dataset by UMAP', fontsize=14);"
   ]
  },
  {
   "cell_type": "markdown",
   "id": "f7af8a73",
   "metadata": {},
   "source": [
    "# Build a model"
   ]
  },
  {
   "cell_type": "code",
   "execution_count": null,
   "id": "fe8ffead",
   "metadata": {},
   "outputs": [],
   "source": [
    "df_sample = df.sample(2000, replace=False)\n",
    "X, y = df_sample.drop(112, axis=1), df_sample[[112]].values.flatten()"
   ]
  },
  {
   "cell_type": "code",
   "execution_count": null,
   "id": "5859affa",
   "metadata": {},
   "outputs": [],
   "source": [
    "pipe = make_pipeline(QuantileTransformer(), StandardScaler())\n",
    "X = pipe.fit_transform(X.copy())"
   ]
  },
  {
   "cell_type": "code",
   "execution_count": null,
   "id": "89dd5613",
   "metadata": {},
   "outputs": [],
   "source": [
    "X_train, X_test, y_train, y_test = train_test_split(X, y, stratify = y, random_state = 42)"
   ]
  },
  {
   "cell_type": "code",
   "execution_count": null,
   "id": "26ed3cad",
   "metadata": {},
   "outputs": [],
   "source": [
    "# fit a model without UMAP transformation\n",
    "svc = SVC().fit(X_train, y_train)"
   ]
  },
  {
   "cell_type": "code",
   "execution_count": null,
   "id": "29d813ef",
   "metadata": {},
   "outputs": [],
   "source": [
    "svc.score(X_train, y_train)"
   ]
  },
  {
   "cell_type": "code",
   "execution_count": null,
   "id": "6adf1ae3",
   "metadata": {},
   "outputs": [],
   "source": [
    "svc.score(X_test, y_test)"
   ]
  },
  {
   "cell_type": "code",
   "execution_count": null,
   "id": "a017d5f5",
   "metadata": {},
   "outputs": [],
   "source": [
    "X_train. shape"
   ]
  },
  {
   "cell_type": "code",
   "execution_count": null,
   "id": "94ea01d1",
   "metadata": {},
   "outputs": [],
   "source": [
    "# Now apply the UMAP transformation\n",
    "# Supervised UMAP transformation on the training set\n",
    "manifold = umap.UMAP(n_neighbors = 1499, min_dist = 0.1, n_components = 2, metric = \"manhattan\").fit(X_train, y_train)\n",
    "X_reduced = manifold.transform(X_train)"
   ]
  },
  {
   "cell_type": "code",
   "execution_count": null,
   "id": "3725ca11",
   "metadata": {},
   "outputs": [],
   "source": [
    "# Fit a model with UMAP transformation applied\n",
    "svc = SVC().fit(X_reduced, y_train)"
   ]
  },
  {
   "cell_type": "code",
   "execution_count": null,
   "id": "ce32dbba",
   "metadata": {},
   "outputs": [],
   "source": [
    "svc.score(X_reduced, y_train)"
   ]
  },
  {
   "cell_type": "code",
   "execution_count": null,
   "id": "5745904b",
   "metadata": {},
   "outputs": [],
   "source": [
    "plt.scatter(X_reduced[:, 0], X_reduced[:, 1], c = y_train, s = 11, cmap = 'Spectral');\n",
    "plt.title('Embedding of the training dataset by UMAP', fontsize = 14);"
   ]
  },
  {
   "cell_type": "markdown",
   "id": "3e042d17",
   "metadata": {},
   "source": [
    "# Predictions on the test set with the umap features as predictors"
   ]
  },
  {
   "cell_type": "code",
   "execution_count": null,
   "id": "00f8e3f5",
   "metadata": {},
   "outputs": [],
   "source": [
    "X_reduced = manifold.transform(X_test)\n",
    "svc.score(X_reduced, y_test)"
   ]
  },
  {
   "cell_type": "code",
   "execution_count": null,
   "id": "5431cb31",
   "metadata": {},
   "outputs": [],
   "source": [
    "plt.scatter(X_reduced[:, 0], X_reduced[:, 1], c = y_test, s = 11, cmap = 'Spectral');\n",
    "plt.title('Embedding of the testing dataset by UMAP', fontsize = 14);"
   ]
  },
  {
   "cell_type": "markdown",
   "id": "61ad8cf5",
   "metadata": {},
   "source": [
    "# Predictions on the shock_4 dataset"
   ]
  },
  {
   "cell_type": "code",
   "execution_count": null,
   "id": "101615ff",
   "metadata": {},
   "outputs": [],
   "source": [
    "shock_4_sample = shock_4.sample(800, replace=False)\n",
    "X, y = shock_4_sample.drop(112, axis=1), shock_4_sample[[112]].values.flatten()"
   ]
  },
  {
   "cell_type": "code",
   "execution_count": null,
   "id": "f0e6c629",
   "metadata": {},
   "outputs": [],
   "source": [
    "pipe = make_pipeline(QuantileTransformer(),StandardScaler())\n",
    "X = pipe.fit_transform(X.copy())"
   ]
  },
  {
   "cell_type": "code",
   "execution_count": null,
   "id": "d8d30045",
   "metadata": {},
   "outputs": [],
   "source": [
    "X_reduced = manifold.transform(X)\n",
    "svc.score(X_reduced,y)"
   ]
  },
  {
   "cell_type": "code",
   "execution_count": null,
   "id": "04116298",
   "metadata": {
    "scrolled": true
   },
   "outputs": [],
   "source": [
    "plt.scatter(X_reduced[:, 0], X_reduced[:, 1], c = y, s = 11, cmap = 'Spectral');\n",
    "plt.title('Embedding of the shock_4 dataset by UMAP', fontsize = 14);"
   ]
  },
  {
   "cell_type": "code",
   "execution_count": null,
   "id": "5af60411",
   "metadata": {},
   "outputs": [],
   "source": []
  },
  {
   "cell_type": "code",
   "execution_count": null,
   "id": "fbfa6250",
   "metadata": {},
   "outputs": [],
   "source": []
  },
  {
   "cell_type": "code",
   "execution_count": null,
   "id": "ed9afe7b",
   "metadata": {},
   "outputs": [],
   "source": []
  },
  {
   "cell_type": "code",
   "execution_count": null,
   "id": "01fc2bb9",
   "metadata": {},
   "outputs": [],
   "source": []
  },
  {
   "cell_type": "code",
   "execution_count": null,
   "id": "5833e040",
   "metadata": {},
   "outputs": [],
   "source": []
  },
  {
   "cell_type": "code",
   "execution_count": null,
   "id": "8c3bb0a7",
   "metadata": {},
   "outputs": [],
   "source": []
  },
  {
   "cell_type": "code",
   "execution_count": null,
   "id": "8d59c070",
   "metadata": {},
   "outputs": [],
   "source": []
  },
  {
   "cell_type": "code",
   "execution_count": null,
   "id": "109901d0",
   "metadata": {},
   "outputs": [],
   "source": []
  },
  {
   "cell_type": "code",
   "execution_count": null,
   "id": "231fc4c4",
   "metadata": {},
   "outputs": [],
   "source": []
  }
 ],
 "metadata": {
  "kernelspec": {
   "display_name": "Python 3 (ipykernel)",
   "language": "python",
   "name": "python3"
  },
  "language_info": {
   "codemirror_mode": {
    "name": "ipython",
    "version": 3
   },
   "file_extension": ".py",
   "mimetype": "text/x-python",
   "name": "python",
   "nbconvert_exporter": "python",
   "pygments_lexer": "ipython3",
   "version": "3.9.7"
  }
 },
 "nbformat": 4,
 "nbformat_minor": 5
}
